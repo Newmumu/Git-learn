{
 "cells": [
  {
   "cell_type": "code",
   "execution_count": 10,
   "metadata": {},
   "outputs": [],
   "source": [
    "# BeautifulSoup的基础练习使用\n",
    "\n",
    "1.安装BeautifulSoup\n",
    "pip install beautifulsoup4\n",
    "or\n",
    "easy_install beautifulsoup4\n",
    "2.安装lxml\n",
    "pip install lxml\n",
    "or\n",
    "easy_install lxml\n",
    "\n",
    "3.BeautifulSoup4的解析库主要有以下几种：\n",
    "    2.1 Python标准库：html.parser BeautifulSoup(markup, 'html.parser')  # Python 内置解析库；速度适中；文档容错能力强  &&  Python2.7 or 3.2之前的中文容错能力差\n",
    "    2.2 lxml HTML 解析器：lxml BeautifulSoup(markup, 'lxml')  # 速度快；文档容错能力强  &&  需要安装C语言库\n",
    "    2.3 lxml XML 解析器：xml BeautifulSoup(markup, ['lxml', 'xml'])  or BeautifulSoup(markup, 'xml')  # 速度快；唯一支持xml解析的解析器 && 需要安装C语言库\n",
    "    2.4 html5lib BeautifulSoup(markup, 'html5lib') # 最好的容错性；浏览器方式浏览文档；生成html5格式的文档；  && 速度慢"
   ]
  },
  {
   "cell_type": "code",
   "execution_count": 14,
   "metadata": {},
   "outputs": [],
   "source": [
    "4.创建BeautifulSoup对象\n",
    "首先导入bs4库"
   ]
  },
  {
   "cell_type": "code",
   "execution_count": 19,
   "metadata": {},
   "outputs": [],
   "source": [
    "from bs4 import BeautifulSoup\n",
    "# 我们创建一个字符串，后面的例子就是用它来进行演示\n",
    "html = \"\"\"\n",
    "<html><head><title>The Dormouse's story</title></head>\n",
    "<body>\n",
    "<p class=\"title\" name=\"dromouse\"><b>The Dormouse's story</b></p>\n",
    "<p class=\"story\">Once upon a time there were three little sisters; and their names were\n",
    "<a href=\"http://example.com/elsie\" class=\"sister\" id=\"link1\"><!-- Elsie --></a>,\n",
    "<a href=\"http://example.com/lacie\" class=\"sister\" id=\"link2\">Lacie</a> and\n",
    "<a href=\"http://example.com/tillie\" class=\"sister\" id=\"link3\">Tillie</a>;\n",
    "and they lived at the bottom of a well.</p>\n",
    "<p class=\"story\">...</p>\n",
    "\"\"\""
   ]
  },
  {
   "cell_type": "code",
   "execution_count": 21,
   "metadata": {},
   "outputs": [
    {
     "name": "stdout",
     "output_type": "stream",
     "text": [
      "<html>\n",
      " <head>\n",
      "  <title>\n",
      "   The Dormouse's story\n",
      "  </title>\n",
      " </head>\n",
      " <body>\n",
      "  <p class=\"title\" name=\"dromouse\">\n",
      "   <b>\n",
      "    The Dormouse's story\n",
      "   </b>\n",
      "  </p>\n",
      "  <p class=\"story\">\n",
      "   Once upon a time there were three little sisters; and their names were\n",
      "   <a class=\"sister\" href=\"http://example.com/elsie\" id=\"link1\">\n",
      "    <!-- Elsie -->\n",
      "   </a>\n",
      "   ,\n",
      "   <a class=\"sister\" href=\"http://example.com/lacie\" id=\"link2\">\n",
      "    Lacie\n",
      "   </a>\n",
      "   and\n",
      "   <a class=\"sister\" href=\"http://example.com/tillie\" id=\"link3\">\n",
      "    Tillie\n",
      "   </a>\n",
      "   ;\n",
      "and they lived at the bottom of a well.\n",
      "  </p>\n",
      "  <p class=\"story\">\n",
      "   ...\n",
      "  </p>\n",
      " </body>\n",
      "</html>\n"
     ]
    }
   ],
   "source": [
    "\"\"\"创建beautifulSoup对象\"\"\"\n",
    "soup = BeautifulSoup(html)\n",
    "\"\"\"另外我们可以使用本地的html文件创建对象， 如：\n",
    "soup = BeautifulSoup(open('index.html'))\n",
    "将本地的index.html文件打开，并用它创建soup对象，下面我们可以打印一下soup对象的内容个，并格式化输出\"\"\"\n",
    "print(soup.prettify())"
   ]
  },
  {
   "cell_type": "code",
   "execution_count": 23,
   "metadata": {},
   "outputs": [
    {
     "data": {
      "text/plain": [
       "\"执行源html文件编码格式\\n指定编码：当html为其他类型的编码（非UTF-8和ACS II），比如GB2312，则需要执行相应的字符编码，BeautifulSoup才可以正确解析\\n1.htmlCharset='CB2312'\\n2.soup = BeautifulSoup(respHTML, fromEncoding=htmlCharset)\\n\""
      ]
     },
     "execution_count": 23,
     "metadata": {},
     "output_type": "execute_result"
    }
   ],
   "source": [
    "\"\"\"执行源html文件编码格式\n",
    "指定编码：当html为其他类型的编码（非UTF-8和ACS II），比如GB2312，则需要执行相应的字符编码，BeautifulSoup才可以正确解析\n",
    "1.htmlCharset='CB2312'\n",
    "2.soup = BeautifulSoup(respHTML, fromEncoding=htmlCharset)\n",
    "\"\"\""
   ]
  },
  {
   "cell_type": "code",
   "execution_count": 28,
   "metadata": {},
   "outputs": [],
   "source": [
    "# html字符串创建BeautifulSoup对象\n",
    "soup = BeautifulSoup(html, 'html.parser', from_encoding='utf-8')"
   ]
  },
  {
   "cell_type": "code",
   "execution_count": 31,
   "metadata": {},
   "outputs": [
    {
     "name": "stdout",
     "output_type": "stream",
     "text": [
      "<title>The Dormouse's story</title>\n"
     ]
    }
   ],
   "source": [
    "# 输出第一个title标签\n",
    "print(soup.title)"
   ]
  },
  {
   "cell_type": "code",
   "execution_count": 33,
   "metadata": {},
   "outputs": [
    {
     "name": "stdout",
     "output_type": "stream",
     "text": [
      "title\n"
     ]
    }
   ],
   "source": [
    "# 输出第一个title标签的标签名称\n",
    "print(soup.title.name)"
   ]
  },
  {
   "cell_type": "code",
   "execution_count": 35,
   "metadata": {},
   "outputs": [
    {
     "name": "stdout",
     "output_type": "stream",
     "text": [
      "The Dormouse's story\n"
     ]
    }
   ],
   "source": [
    "# 输出第一个title标签包含的内容\n",
    "print(soup.title.string)"
   ]
  },
  {
   "cell_type": "code",
   "execution_count": 37,
   "metadata": {},
   "outputs": [
    {
     "name": "stdout",
     "output_type": "stream",
     "text": [
      "head\n"
     ]
    }
   ],
   "source": [
    "# 输出第一个title标签的父标签的标签名称\n",
    "print(soup.title.parent.name)"
   ]
  },
  {
   "cell_type": "code",
   "execution_count": 39,
   "metadata": {},
   "outputs": [
    {
     "name": "stdout",
     "output_type": "stream",
     "text": [
      "The Dormouse's story\n"
     ]
    }
   ],
   "source": [
    "# 输出第一个title标签的父标签的标签包含的内容\n",
    "print(soup.title.parent.string)"
   ]
  },
  {
   "cell_type": "code",
   "execution_count": 40,
   "metadata": {},
   "outputs": [
    {
     "name": "stdout",
     "output_type": "stream",
     "text": [
      "<p class=\"title\" name=\"dromouse\"><b>The Dormouse's story</b></p>\n"
     ]
    }
   ],
   "source": [
    "# 输出第一个p标签\n",
    "print(soup.p)"
   ]
  },
  {
   "cell_type": "code",
   "execution_count": 41,
   "metadata": {},
   "outputs": [
    {
     "name": "stdout",
     "output_type": "stream",
     "text": [
      "['title']\n"
     ]
    }
   ],
   "source": [
    "# 输出第一个p 标签的 class 属性内容\n",
    "print(soup.p['class'])"
   ]
  },
  {
   "cell_type": "code",
   "execution_count": 42,
   "metadata": {},
   "outputs": [
    {
     "name": "stdout",
     "output_type": "stream",
     "text": [
      "http://example.com/elsie\n",
      "None\n"
     ]
    }
   ],
   "source": [
    "# 输出第一个 a 标签的 href 属性内容\n",
    "print(soup.a['href'])\n",
    "print(soup.a.href)  # 取属性值，只能通过字典键值对去取，不能通过.key的方式取"
   ]
  },
  {
   "cell_type": "code",
   "execution_count": 43,
   "metadata": {},
   "outputs": [],
   "source": [
    "\"\"\"\n",
    "soup的属性可以被添加，删除或修改， soup的属性操作方法和字典一样\n",
    "\"\"\"\n",
    "# 修改第一个a标签的href属性为：http://baidu.com/\n",
    "soup.a['href'] = 'http://baidu.com/'"
   ]
  },
  {
   "cell_type": "code",
   "execution_count": 44,
   "metadata": {},
   "outputs": [],
   "source": [
    "# 给第一个a标签添加name属性\n",
    "soup.a['name'] = u'百度'"
   ]
  },
  {
   "cell_type": "code",
   "execution_count": 45,
   "metadata": {},
   "outputs": [],
   "source": [
    "# 删除第一个 a 标签的class属性\n",
    "del soup.a['class']"
   ]
  },
  {
   "cell_type": "code",
   "execution_count": 46,
   "metadata": {},
   "outputs": [
    {
     "name": "stdout",
     "output_type": "stream",
     "text": [
      "<a href=\"http://baidu.com/\" id=\"link1\" name=\"百度\"><!-- Elsie --></a>\n"
     ]
    }
   ],
   "source": [
    "# 输出第一个 a 标签\n",
    "print(soup.a)"
   ]
  },
  {
   "cell_type": "code",
   "execution_count": 47,
   "metadata": {},
   "outputs": [
    {
     "name": "stdout",
     "output_type": "stream",
     "text": [
      "[<b>The Dormouse's story</b>]\n"
     ]
    }
   ],
   "source": [
    "# 输出第一个 p 标签的所有子节点\n",
    "print(soup.p.contents)"
   ]
  },
  {
   "cell_type": "code",
   "execution_count": 48,
   "metadata": {},
   "outputs": [
    {
     "name": "stdout",
     "output_type": "stream",
     "text": [
      "[<a href=\"http://baidu.com/\" id=\"link1\" name=\"百度\"><!-- Elsie --></a>, <a class=\"sister\" href=\"http://example.com/lacie\" id=\"link2\">Lacie</a>, <a class=\"sister\" href=\"http://example.com/tillie\" id=\"link3\">Tillie</a>]\n"
     ]
    }
   ],
   "source": [
    "# 输出所有的 a 标签，（以list形式输出）\n",
    "print(soup.find_all('a'))"
   ]
  },
  {
   "cell_type": "code",
   "execution_count": 49,
   "metadata": {},
   "outputs": [
    {
     "name": "stdout",
     "output_type": "stream",
     "text": [
      "<a class=\"sister\" href=\"http://example.com/tillie\" id=\"link3\">Tillie</a>\n"
     ]
    }
   ],
   "source": [
    "# 输出第一个 id 属性值为：link3 的 a 标签\n",
    "print(soup.find('a', id='link3'))"
   ]
  },
  {
   "cell_type": "code",
   "execution_count": 50,
   "metadata": {},
   "outputs": [
    {
     "name": "stdout",
     "output_type": "stream",
     "text": [
      "<a class=\"sister\" href=\"http://example.com/tillie\" id=\"link3\">Tillie</a>\n"
     ]
    }
   ],
   "source": [
    "# 输出第一个 id 属性为 link3 的标签\n",
    "print(soup.find(id='link3'))"
   ]
  },
  {
   "cell_type": "code",
   "execution_count": 51,
   "metadata": {},
   "outputs": [
    {
     "name": "stdout",
     "output_type": "stream",
     "text": [
      "\n",
      "The Dormouse's story\n",
      "\n",
      "The Dormouse's story\n",
      "Once upon a time there were three little sisters; and their names were\n",
      ",\n",
      "Lacie and\n",
      "Tillie;\n",
      "and they lived at the bottom of a well.\n",
      "...\n",
      "\n"
     ]
    }
   ],
   "source": [
    "# 获取soup的所有文字内容\n",
    "print(soup.get_text())"
   ]
  },
  {
   "cell_type": "code",
   "execution_count": 52,
   "metadata": {},
   "outputs": [
    {
     "name": "stdout",
     "output_type": "stream",
     "text": [
      "{'href': 'http://baidu.com/', 'id': 'link1', 'name': '百度'}\n"
     ]
    }
   ],
   "source": [
    "# 输出第一个 a 标签的所有属性信息\n",
    "print(soup.a.attrs)"
   ]
  },
  {
   "cell_type": "code",
   "execution_count": 56,
   "metadata": {},
   "outputs": [
    {
     "name": "stdout",
     "output_type": "stream",
     "text": [
      "get方法获取属性值:http://baidu.com/\t\t字典key值获取value值:http://baidu.com/\n",
      "get方法获取属性值:http://example.com/lacie\t\t字典key值获取value值:http://example.com/lacie\n",
      "get方法获取属性值:http://example.com/tillie\t\t字典key值获取value值:http://example.com/tillie\n"
     ]
    }
   ],
   "source": [
    "# 获取所有 a 标签的href 属性内容\n",
    "for link in soup.find_all('a'):\n",
    "    # 获取 link 的href 属性值\n",
    "    print('get方法获取属性值:'+link.get('href') + '\\t\\t' + '字典key值获取value值:'+link['href'])"
   ]
  },
  {
   "cell_type": "code",
   "execution_count": 58,
   "metadata": {},
   "outputs": [
    {
     "name": "stdout",
     "output_type": "stream",
     "text": [
      "<b>The Dormouse's story</b>\n"
     ]
    }
   ],
   "source": [
    "# 对soup.p 的子节点进行循环输出\n",
    "for child in soup.p.children:\n",
    "    print(child)"
   ]
  },
  {
   "cell_type": "code",
   "execution_count": 60,
   "metadata": {},
   "outputs": [
    {
     "name": "stdout",
     "output_type": "stream",
     "text": [
      "body\n",
      "b\n"
     ]
    }
   ],
   "source": [
    "# 正则匹配， 名字中带有 b 的标签\n",
    "import re\n",
    "for tag in soup.find_all(re.compile('b')):\n",
    "    print(tag.name)"
   ]
  },
  {
   "cell_type": "code",
   "execution_count": 63,
   "metadata": {},
   "outputs": [
    {
     "data": {
      "text/plain": [
       "'\\nimport bs4#导入BeautifulSoup库\\nSoup = BeautifulSoup(html)#其中html 可以是字符串，也可以是句柄\\n需要注意的是，BeautifulSoup会自动检测传入文件的编码格式，然后转化为Unicode格式\\n通过如上两句话，BS自动把文档生成为如上图中的解析树。\\n'"
      ]
     },
     "execution_count": 63,
     "metadata": {},
     "output_type": "execute_result"
    }
   ],
   "source": [
    "\"\"\"\n",
    "import bs4#导入BeautifulSoup库\n",
    "Soup = BeautifulSoup(html)#其中html 可以是字符串，也可以是句柄\n",
    "需要注意的是，BeautifulSoup会自动检测传入文件的编码格式，然后转化为Unicode格式\n",
    "通过如上两句话，BS自动把文档生成为如上图中的解析树。\n",
    "\"\"\""
   ]
  },
  {
   "cell_type": "code",
   "execution_count": null,
   "metadata": {},
   "outputs": [],
   "source": []
  }
 ],
 "metadata": {
  "kernelspec": {
   "display_name": "Python 3",
   "language": "python",
   "name": "python3"
  },
  "language_info": {
   "codemirror_mode": {
    "name": "ipython",
    "version": 3
   },
   "file_extension": ".py",
   "mimetype": "text/x-python",
   "name": "python",
   "nbconvert_exporter": "python",
   "pygments_lexer": "ipython3",
   "version": "3.8.0"
  }
 },
 "nbformat": 4,
 "nbformat_minor": 4
}
